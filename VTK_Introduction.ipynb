{
 "cells": [
  {
   "cell_type": "markdown",
   "id": "e41de400-cd7d-4391-b8a7-f6064c7866cc",
   "metadata": {},
   "source": [
    "### Introduction to Vtk:"
   ]
  },
  {
   "cell_type": "markdown",
   "id": "22eff838-610f-4e70-8fde-a9ce99856678",
   "metadata": {},
   "source": [
    "##### VTK (Visualization Toolkit) is a powerful library for 3D computer graphics, image processing, and visualization. It's widely used in scientific computing, medical imaging, and engineering fields. In Python, VTK provides a convenient interface to create, manipulate, and visualize 3D data."
   ]
  },
  {
   "cell_type": "markdown",
   "id": "a91dd4e9-47e5-4390-9049-f2fcabcb6bad",
   "metadata": {},
   "source": [
    "### Installation : "
   ]
  },
  {
   "cell_type": "code",
   "execution_count": 1,
   "id": "5777d0e5-b085-47e8-aa1d-00b23d625d70",
   "metadata": {},
   "outputs": [
    {
     "name": "stdout",
     "output_type": "stream",
     "text": [
      "Requirement already satisfied: vtk in /home/bhuvaneshwari/anaconda3/lib/python3.11/site-packages (9.3.0)\n",
      "Requirement already satisfied: matplotlib>=2.0.0 in /home/bhuvaneshwari/anaconda3/lib/python3.11/site-packages (from vtk) (3.8.0)\n",
      "Requirement already satisfied: contourpy>=1.0.1 in /home/bhuvaneshwari/anaconda3/lib/python3.11/site-packages (from matplotlib>=2.0.0->vtk) (1.2.0)\n",
      "Requirement already satisfied: cycler>=0.10 in /home/bhuvaneshwari/anaconda3/lib/python3.11/site-packages (from matplotlib>=2.0.0->vtk) (0.11.0)\n",
      "Requirement already satisfied: fonttools>=4.22.0 in /home/bhuvaneshwari/anaconda3/lib/python3.11/site-packages (from matplotlib>=2.0.0->vtk) (4.25.0)\n",
      "Requirement already satisfied: kiwisolver>=1.0.1 in /home/bhuvaneshwari/anaconda3/lib/python3.11/site-packages (from matplotlib>=2.0.0->vtk) (1.4.4)\n",
      "Requirement already satisfied: numpy<2,>=1.21 in /home/bhuvaneshwari/anaconda3/lib/python3.11/site-packages (from matplotlib>=2.0.0->vtk) (1.26.4)\n",
      "Requirement already satisfied: packaging>=20.0 in /home/bhuvaneshwari/anaconda3/lib/python3.11/site-packages (from matplotlib>=2.0.0->vtk) (23.1)\n",
      "Requirement already satisfied: pillow>=6.2.0 in /home/bhuvaneshwari/anaconda3/lib/python3.11/site-packages (from matplotlib>=2.0.0->vtk) (10.2.0)\n",
      "Requirement already satisfied: pyparsing>=2.3.1 in /home/bhuvaneshwari/anaconda3/lib/python3.11/site-packages (from matplotlib>=2.0.0->vtk) (3.0.9)\n",
      "Requirement already satisfied: python-dateutil>=2.7 in /home/bhuvaneshwari/anaconda3/lib/python3.11/site-packages (from matplotlib>=2.0.0->vtk) (2.8.2)\n",
      "Requirement already satisfied: six>=1.5 in /home/bhuvaneshwari/anaconda3/lib/python3.11/site-packages (from python-dateutil>=2.7->matplotlib>=2.0.0->vtk) (1.16.0)\n",
      "Note: you may need to restart the kernel to use updated packages.\n"
     ]
    }
   ],
   "source": [
    "pip install vtk"
   ]
  },
  {
   "cell_type": "markdown",
   "id": "51b45161-8c5a-4d7e-a251-68070c951ad3",
   "metadata": {},
   "source": [
    "### Basic Concepts:"
   ]
  },
  {
   "cell_type": "markdown",
   "id": "bfcb615f-20d2-47aa-a550-a7e52a922687",
   "metadata": {},
   "source": [
    "vtkRenderWindow: This is the area where your visualization will be displayed.\n",
    "\n",
    "vtkRenderer: It contains the visualization scene and handles rendering.\n",
    "\n",
    "vtkRenderWindowInteractor: It provides an interface for the user to interact with the visualization.\n",
    "\n",
    "vtkActor: It represents an object in the visualization scene.\n",
    "\n",
    "vtkMapper: It maps data from a vtkDataSet (or subclass) to graphics primitives.\n",
    "\n",
    "vtkPolyData: It represents data as a geometrically structured dataset."
   ]
  },
  {
   "cell_type": "markdown",
   "id": "dd440eda-7965-4c59-9b99-441262fbbd8f",
   "metadata": {},
   "source": [
    "### Creating Vtk files: "
   ]
  },
  {
   "cell_type": "markdown",
   "id": "3e8c8ebd-8882-4a45-9031-f491b8d79df5",
   "metadata": {},
   "source": [
    "Creating a VTK file involves defining the geometry and attributes of your dataset, such as points, cells, scalars, vectors, etc., and then saving this information to a file in the VTK format. VTK files typically have either a \".vtk\" or \".vtu\" extension.\n",
    "\n"
   ]
  },
  {
   "cell_type": "markdown",
   "id": "dc251549-8869-4eed-a930-1d4cab0faa38",
   "metadata": {},
   "source": [
    "Here's a step-by-step guide to create a VTK file:\n",
    "\n",
    "Define Geometry and Attributes: You need to create or load your dataset. This can be done using various VTK classes depending on the type of data you have. For example, if you have points and cells representing a surface, you might use vtkPolyData. If you have structured or unstructured grid data, you might use vtkStructuredGrid or vtkUnstructuredGrid.\n",
    "\n",
    "Define Scalars, Vectors, etc. (if applicable): If your dataset has attributes such as scalars or vectors associated with points or cells, you need to define them.\n",
    "\n",
    "Create Writer Object: You'll need to create a writer object specific to the type of data you have. VTK provides different writers for different types of datasets.\n",
    "\n",
    "Set Input Data: Set your dataset as the input for the writer.\n",
    "\n",
    "Set File Name: Specify the file name and path where you want to save the VTK file.\n",
    "\n",
    "Write: Call the Write() method of the writer to actually save the data to the file.\n",
    "\n"
   ]
  },
  {
   "cell_type": "markdown",
   "id": "8a4bed03-5865-467a-bd32-6f4ee1341320",
   "metadata": {},
   "source": [
    "### Example"
   ]
  },
  {
   "cell_type": "markdown",
   "id": "91d305f3-9667-4360-9a0b-782a93af3641",
   "metadata": {},
   "source": [
    "#### Creating and saving a VTK file with a simple structured grid:"
   ]
  },
  {
   "cell_type": "code",
   "execution_count": 4,
   "id": "fe827ff9-0588-49bf-89ae-66374ee8e8df",
   "metadata": {},
   "outputs": [],
   "source": [
    "import vtk\n"
   ]
  },
  {
   "cell_type": "markdown",
   "id": "1bd1235c-4f85-4bd3-b560-efed86ba13be",
   "metadata": {},
   "source": [
    "##### Create a structured grid:"
   ]
  },
  {
   "cell_type": "markdown",
   "id": "562795a7-aef4-4ae3-bdef-0a1aceaebc22",
   "metadata": {},
   "source": [
    "Here, we create an instance of vtkStructuredGrid, which represents a dataset with a regularly spaced grid of points. We also create a vtkPoints object, which will hold the coordinates of the points in our grid."
   ]
  },
  {
   "cell_type": "code",
   "execution_count": 5,
   "id": "541f62c3-2452-4030-b77f-033ad46fde5a",
   "metadata": {},
   "outputs": [],
   "source": [
    "grid = vtk.vtkStructuredGrid()\n",
    "points = vtk.vtkPoints()\n"
   ]
  },
  {
   "cell_type": "markdown",
   "id": "bec898ab-1724-4eae-8f03-6277d5374ae5",
   "metadata": {},
   "source": [
    "##### Define the grid dimensions:"
   ]
  },
  {
   "cell_type": "markdown",
   "id": "8b5a475f-144e-4e67-af05-27df66a6d375",
   "metadata": {},
   "source": [
    "We define the dimensions of our grid. In this case, it's a 3D grid with dimensions 2x2x2, meaning it has 2 points along each axis (x, y, and z)."
   ]
  },
  {
   "cell_type": "code",
   "execution_count": 6,
   "id": "be55658c-216e-4c10-b1d3-6be5ec5b6a6f",
   "metadata": {},
   "outputs": [],
   "source": [
    "dimensions = (2, 2, 2)\n"
   ]
  },
  {
   "cell_type": "markdown",
   "id": "1ded7691-ca04-40bf-b7db-d4583752427a",
   "metadata": {},
   "source": [
    "##### Define the grid points:"
   ]
  },
  {
   "cell_type": "markdown",
   "id": "e8117ea5-861c-4316-8c77-70718e524f49",
   "metadata": {},
   "source": [
    "We loop through each coordinate in the grid dimensions and insert points into the vtkPoints object. Each point is inserted at the coordinates (x, y, z)."
   ]
  },
  {
   "cell_type": "code",
   "execution_count": 7,
   "id": "23d36608-468d-498a-94f1-198dd76ff6e6",
   "metadata": {},
   "outputs": [],
   "source": [
    "for x in range(dimensions[0]):\n",
    "    for y in range(dimensions[1]):\n",
    "        for z in range(dimensions[2]):\n",
    "\n",
    "\n",
    "            \n",
    "            points.InsertNextPoint(x, y, z)"
   ]
  },
  {
   "cell_type": "markdown",
   "id": "04fc9b10-1a9b-457c-8eb3-dcae663c9977",
   "metadata": {},
   "source": [
    "##### Set dimensions and points for the structured grid:\n"
   ]
  },
  {
   "cell_type": "markdown",
   "id": "a63ba9ab-0025-449d-9d16-1a14d21b09c4",
   "metadata": {},
   "source": [
    "We set the dimensions of the structured grid using SetDimensions() and assign the points to the grid using SetPoints()."
   ]
  },
  {
   "cell_type": "code",
   "execution_count": 9,
   "id": "2b680caa-5843-4cee-ae68-d84d8ed86991",
   "metadata": {},
   "outputs": [],
   "source": [
    "grid.SetDimensions(dimensions)\n",
    "grid.SetPoints(points)"
   ]
  },
  {
   "cell_type": "markdown",
   "id": "d807bef5-7c18-4e08-9dab-6a730f62cb38",
   "metadata": {},
   "source": [
    "##### Create a writer for structured grid:"
   ]
  },
  {
   "cell_type": "markdown",
   "id": "28d64004-1ede-4e92-abfe-ad10342c3acf",
   "metadata": {},
   "source": [
    "We create an instance of vtkStructuredGridWriter, which is specifically designed to write structured grid data to VTK files.\n",
    "\n"
   ]
  },
  {
   "cell_type": "code",
   "execution_count": 10,
   "id": "d7512b2f-a473-477e-8364-bc4711ea6066",
   "metadata": {},
   "outputs": [],
   "source": [
    "writer = vtk.vtkStructuredGridWriter()\n"
   ]
  },
  {
   "cell_type": "markdown",
   "id": "4c5d5ed3-e8ce-4642-8a43-bb08c9d9653a",
   "metadata": {},
   "source": [
    "##### Set input data:\n"
   ]
  },
  {
   "cell_type": "markdown",
   "id": "dc950883-af50-4fc5-b148-397019562cfe",
   "metadata": {},
   "source": [
    "We set the input data for the writer to be our structured grid (grid), which we created earlier.\n",
    "\n"
   ]
  },
  {
   "cell_type": "code",
   "execution_count": 11,
   "id": "1a48a3c6-d478-42a5-b75e-ccc078c564ca",
   "metadata": {},
   "outputs": [],
   "source": [
    "writer.SetInputData(grid)\n"
   ]
  },
  {
   "cell_type": "markdown",
   "id": "53e270d2-ad27-4c64-9098-0d32ce848fee",
   "metadata": {},
   "source": [
    "##### Set file name:\n"
   ]
  },
  {
   "cell_type": "markdown",
   "id": "42eed53c-c1a5-4926-8538-ee1f8a2224ff",
   "metadata": {},
   "source": [
    "We specify the file name where we want to save the VTK file. In this case, it's \"structured_grid.vtk\".\n",
    "\n"
   ]
  },
  {
   "cell_type": "code",
   "execution_count": 13,
   "id": "9d0ba0d5-b93a-4a1d-9d4e-cc63a55336dd",
   "metadata": {},
   "outputs": [],
   "source": [
    "writer.SetFileName(\"structured_grid.vtk\")\n"
   ]
  },
  {
   "cell_type": "markdown",
   "id": "fc338e58-dcfd-4876-821d-262d471709ce",
   "metadata": {},
   "source": [
    "##### Write to file:\n"
   ]
  },
  {
   "cell_type": "markdown",
   "id": "20401bf0-bfd2-4ae5-9bf1-39449460e3e1",
   "metadata": {},
   "source": [
    "Finally, we call the Write() method of the writer object to actually save the data to the specified file."
   ]
  },
  {
   "cell_type": "code",
   "execution_count": 14,
   "id": "89e9fe5d-5942-4250-b430-7d7ba7793be4",
   "metadata": {},
   "outputs": [
    {
     "data": {
      "text/plain": [
       "1"
      ]
     },
     "execution_count": 14,
     "metadata": {},
     "output_type": "execute_result"
    }
   ],
   "source": [
    "writer.Write()\n"
   ]
  },
  {
   "cell_type": "code",
   "execution_count": 15,
   "id": "971d9fdb-4ab9-4df3-929d-cec4e317ad3a",
   "metadata": {},
   "outputs": [
    {
     "data": {
      "text/plain": [
       "'\\'\\nThe code:\\nimport vtk\\n\\n# Create a structured grid\\ngrid = vtk.vtkStructuredGrid()\\npoints = vtk.vtkPoints()\\n\\n# Define the grid dimensions\\ndimensions = (2, 2, 2)\\n\\n# Define the grid points\\nfor x in range(dimensions[0]):\\n    for y in range(dimensions[1]):\\n        for z in range(dimensions[2]):\\n            points.InsertNextPoint(x, y, z)\\n\\ngrid.SetDimensions(dimensions)\\ngrid.SetPoints(points)\\n\\n# Create a writer for structured grid\\nwriter = vtk.vtkStructuredGridWriter()\\nwriter.SetInputData(grid)\\nwriter.SetFileName(\"structured_grid.vtk\")\\nwriter.Write()\\n'"
      ]
     },
     "execution_count": 15,
     "metadata": {},
     "output_type": "execute_result"
    }
   ],
   "source": [
    "''''\n",
    "The code:\n",
    "import vtk\n",
    "\n",
    "# Create a structured grid\n",
    "grid = vtk.vtkStructuredGrid()\n",
    "points = vtk.vtkPoints()\n",
    "\n",
    "# Define the grid dimensions\n",
    "dimensions = (2, 2, 2)\n",
    "\n",
    "# Define the grid points\n",
    "for x in range(dimensions[0]):\n",
    "    for y in range(dimensions[1]):\n",
    "        for z in range(dimensions[2]):\n",
    "            points.InsertNextPoint(x, y, z)\n",
    "\n",
    "grid.SetDimensions(dimensions)\n",
    "grid.SetPoints(points)\n",
    "\n",
    "# Create a writer for structured grid\n",
    "writer = vtk.vtkStructuredGridWriter()\n",
    "writer.SetInputData(grid)\n",
    "writer.SetFileName(\"structured_grid.vtk\")\n",
    "writer.Write()\n",
    "'''"
   ]
  },
  {
   "cell_type": "code",
   "execution_count": null,
   "id": "35d79cd4-0c69-42b2-ba16-8c5fca665894",
   "metadata": {},
   "outputs": [],
   "source": []
  }
 ],
 "metadata": {
  "kernelspec": {
   "display_name": "Python 3 (ipykernel)",
   "language": "python",
   "name": "python3"
  },
  "language_info": {
   "codemirror_mode": {
    "name": "ipython",
    "version": 3
   },
   "file_extension": ".py",
   "mimetype": "text/x-python",
   "name": "python",
   "nbconvert_exporter": "python",
   "pygments_lexer": "ipython3",
   "version": "3.11.5"
  }
 },
 "nbformat": 4,
 "nbformat_minor": 5
}
